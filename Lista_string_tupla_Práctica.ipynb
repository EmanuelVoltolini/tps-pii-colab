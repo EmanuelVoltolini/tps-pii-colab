{
  "nbformat": 4,
  "nbformat_minor": 0,
  "metadata": {
    "colab": {
      "provenance": [],
      "include_colab_link": true
    },
    "kernelspec": {
      "name": "python3",
      "display_name": "Python 3"
    },
    "language_info": {
      "name": "python"
    }
  },
  "cells": [
    {
      "cell_type": "markdown",
      "metadata": {
        "id": "view-in-github",
        "colab_type": "text"
      },
      "source": [
        "<a href=\"https://colab.research.google.com/github/EmanuelVoltolini/tps-voltolini/blob/main/Lista_string_tupla_Pr%C3%A1ctica.ipynb\" target=\"_parent\"><img src=\"https://colab.research.google.com/assets/colab-badge.svg\" alt=\"Open In Colab\"/></a>"
      ]
    },
    {
      "cell_type": "code",
      "execution_count": 52,
      "metadata": {
        "id": "8VOD-zpMJovw"
      },
      "outputs": [],
      "source": [
        "# Lista de alumnos\n",
        "alumnos = [\n",
        "    \"Alurralde, Solange Stefania\",\n",
        "    \"Alvarado, Ludmila Del Milagro\",\n",
        "    \"Angel, Camila Juliana\",\n",
        "    \"Arenas, Lucas Gabriel\",\n",
        "    \"Caseres, Maria Antonia\",\n",
        "    \"Castillo, Paulina Milagros\",\n",
        "    \"Correa Segovia, Hugo Mariano\",\n",
        "    \"D Elia, Alvaro Tadeo\",\n",
        "    \"Flores, Victoria Agustina\",\n",
        "    \"Geronimo Soriano, Lizzie Amaya\",\n",
        "    \"GUZMAN, ANGÉLICA MORENA\",\n",
        "    \"Guzman, Jazmin Esmeralda Belen\",\n",
        "    \"Jaime, Anita Maria Belen\",\n",
        "    \"Lacour Polo, Nazarena\",\n",
        "    \"Lascano Guanca, Marcelo Fabricio\",\n",
        "    \"Lezcano, Celia Morena\",\n",
        "    \"Mamani Kynast, Nicolas Mauricio\",\n",
        "    \"Martinez, Tomas Andres\",\n",
        "    \"PORTELLA VALDIVIA, PEDRO FRANCISCO\",\n",
        "    \"Retamal Cisneros, Zacarias Josue\",\n",
        "    \"Rosales, Francisco Gabriel\",\n",
        "    \"Salem Barba, Mahia\",\n",
        "    \"Soto Camara, Agustin Ignacio\",\n",
        "    \"Villalba, Irina\",\n",
        "    \"Voltolini, Emanuel Tobias\",\n",
        "    \"Zalazar, Santino Stefano\",\n",
        "    \"ABUD LASPIUR, LOURDES MARIEL\",\n",
        "    \"Amador, Luana Micaela\",\n",
        "    \"Anaquin, Leonardo Ezequiel\",\n",
        "    \"Araoz Sanchez, Lautaro Nahuel\",\n",
        "    \"Argañaraz, Agostina Abril\",\n",
        "    \"Barrera, Matias Ezequiel\",\n",
        "    \"Barrozo Vedia, Joaquin Nicolas\",\n",
        "    \"Bettinelli, Valentino\",\n",
        "    \"Bracamonte Martinez, Salvador\",\n",
        "    \"Colque Rivero, Ariana Zoe Del Valle\",\n",
        "    \"Diaz, Dulce Maitena\",\n",
        "    \"FIGUEROA, SANTINO JOSUE\",\n",
        "    \"Flores Cardozo, Agustina Tiara\",\n",
        "    \"Gallo, Octavio Ismael\",\n",
        "    \"Galvan, Lourdes Yamila\",\n",
        "    \"Giangreco, Vitto Tomasso\",\n",
        "    \"Grancara, Martina Luna\",\n",
        "    \"Guanca, Sara Elizabeth\",\n",
        "    \"Lopez, Victoria Constanza\",\n",
        "    \"Mamani Garrido, Rosario Agostina\",\n",
        "    \"Marinaro, Martin Ezequiel\",\n",
        "    \"Merluzzi Dagum, Ignacio\",\n",
        "    \"Messina, Martina\",\n",
        "    \"RASUK, KARIM\", \"Rios, Lucia Magali\",\n",
        "    \"Sanchez Flores, Matías Agustín\",\n",
        "    \"Scarano, Renato Marcelo\",\n",
        "    \"Sierra, Lucas Mauricio\",\n",
        "    \"Tapia, Martin Gabriel\",\n",
        "    \"Vilte, Mia Antonella Alondra\",\n",
        "    \"Virgillito, Katya Milena\"\n",
        "]"
      ]
    },
    {
      "cell_type": "markdown",
      "source": [
        "## Dada la lista estudiantes:\n",
        "> - Hacer una celda para resolver cada punto.\n",
        "- El TP resuelto será revisado en tu repositorio, no es necesario que lo envíes, pero sí que lo pushees correctamente.\n",
        "- En la nota inicial se contempla:\n",
        "  - La creación del fork.\n",
        "  - El pusheo de los cambios realizados.\n",
        "  - La resolución de los ejercicios propuestos.\n"
      ],
      "metadata": {
        "id": "rd6Ug6v3J4uN"
      }
    },
    {
      "cell_type": "markdown",
      "source": [
        "1. Reemplaza todos los valores por los que obtengas del método title(). De esta manera tu lista quedara con los datos más homogéneos."
      ],
      "metadata": {
        "id": "wRLng-uURyJ3"
      }
    },
    {
      "cell_type": "code",
      "source": [
        "for i in range(len(alumnos)):\n",
        "\talumnos[i] = alumnos[i].title()\n",
        "\n",
        "for alumno in alumnos:\n",
        "\tprint(alumno)"
      ],
      "metadata": {
        "id": "8_-pTJ7UmqPY",
        "colab": {
          "base_uri": "https://localhost:8080/"
        },
        "outputId": "b45eb843-d887-4a8e-bcb9-8e36d3a605a0"
      },
      "execution_count": 53,
      "outputs": [
        {
          "output_type": "stream",
          "name": "stdout",
          "text": [
            "Alurralde, Solange Stefania\n",
            "Alvarado, Ludmila Del Milagro\n",
            "Angel, Camila Juliana\n",
            "Arenas, Lucas Gabriel\n",
            "Caseres, Maria Antonia\n",
            "Castillo, Paulina Milagros\n",
            "Correa Segovia, Hugo Mariano\n",
            "D Elia, Alvaro Tadeo\n",
            "Flores, Victoria Agustina\n",
            "Geronimo Soriano, Lizzie Amaya\n",
            "Guzman, Angélica Morena\n",
            "Guzman, Jazmin Esmeralda Belen\n",
            "Jaime, Anita Maria Belen\n",
            "Lacour Polo, Nazarena\n",
            "Lascano Guanca, Marcelo Fabricio\n",
            "Lezcano, Celia Morena\n",
            "Mamani Kynast, Nicolas Mauricio\n",
            "Martinez, Tomas Andres\n",
            "Portella Valdivia, Pedro Francisco\n",
            "Retamal Cisneros, Zacarias Josue\n",
            "Rosales, Francisco Gabriel\n",
            "Salem Barba, Mahia\n",
            "Soto Camara, Agustin Ignacio\n",
            "Villalba, Irina\n",
            "Voltolini, Emanuel Tobias\n",
            "Zalazar, Santino Stefano\n",
            "Abud Laspiur, Lourdes Mariel\n",
            "Amador, Luana Micaela\n",
            "Anaquin, Leonardo Ezequiel\n",
            "Araoz Sanchez, Lautaro Nahuel\n",
            "Argañaraz, Agostina Abril\n",
            "Barrera, Matias Ezequiel\n",
            "Barrozo Vedia, Joaquin Nicolas\n",
            "Bettinelli, Valentino\n",
            "Bracamonte Martinez, Salvador\n",
            "Colque Rivero, Ariana Zoe Del Valle\n",
            "Diaz, Dulce Maitena\n",
            "Figueroa, Santino Josue\n",
            "Flores Cardozo, Agustina Tiara\n",
            "Gallo, Octavio Ismael\n",
            "Galvan, Lourdes Yamila\n",
            "Giangreco, Vitto Tomasso\n",
            "Grancara, Martina Luna\n",
            "Guanca, Sara Elizabeth\n",
            "Lopez, Victoria Constanza\n",
            "Mamani Garrido, Rosario Agostina\n",
            "Marinaro, Martin Ezequiel\n",
            "Merluzzi Dagum, Ignacio\n",
            "Messina, Martina\n",
            "Rasuk, Karim\n",
            "Rios, Lucia Magali\n",
            "Sanchez Flores, Matías Agustín\n",
            "Scarano, Renato Marcelo\n",
            "Sierra, Lucas Mauricio\n",
            "Tapia, Martin Gabriel\n",
            "Vilte, Mia Antonella Alondra\n",
            "Virgillito, Katya Milena\n"
          ]
        }
      ]
    },
    {
      "cell_type": "markdown",
      "source": [
        "2. Desarrolla un script que permita ingresar un nombre y muestre cuantas veces aparece este en la lista\n"
      ],
      "metadata": {
        "id": "dYEGkYZyLy9I"
      }
    },
    {
      "cell_type": "code",
      "source": [
        "nombre = input(\"Ingrese un nombre:\").title()\n",
        "nombres = []\n",
        "for alumno in alumnos:\n",
        "\talumno_nombres = alumno.replace(\",\",\" \").split()\n",
        "\tnombres.extend(alumno_nombres)\n",
        "print(f\"El nombre {nombre} aparece {nombres.count(nombre)} veces en la lista\")"
      ],
      "metadata": {
        "id": "2EzQjUqbmvTB",
        "colab": {
          "base_uri": "https://localhost:8080/"
        },
        "outputId": "e4454a2f-effa-45a4-ed94-a4214cd86606"
      },
      "execution_count": 31,
      "outputs": [
        {
          "output_type": "stream",
          "name": "stdout",
          "text": [
            "Ingrese un nombre:agustin\n",
            "El nombre Agustin aparece 1 veces en la lista\n"
          ]
        }
      ]
    },
    {
      "cell_type": "markdown",
      "source": [
        "3. Desarrolla un script en python que permita ingresar un nombre y mostrar en que posición de la lista se encuentra el mismo. Realiza las combinaciones necesarias para que no se genere un error si es que el nombre no existe."
      ],
      "metadata": {
        "id": "UW2dlBsGMAte"
      }
    },
    {
      "cell_type": "code",
      "source": [
        "nombre = input(\"Ingrese un nombre:\").title()\n",
        "if nombre in nombres:\n",
        "  posicion = nombres.index(nombre)\n",
        "  print(f\"El nombre {nombre} se encuentra en la posición {posicion}.\")\n",
        "else:\n",
        "  print(f\"El nombre {nombre} no se encuentra en la lista.\")"
      ],
      "metadata": {
        "id": "WG4Eae3PnAog",
        "colab": {
          "base_uri": "https://localhost:8080/"
        },
        "outputId": "e5c094a0-c7cb-4ea3-ff5a-dde2890507fc"
      },
      "execution_count": 32,
      "outputs": [
        {
          "output_type": "stream",
          "name": "stdout",
          "text": [
            "Ingrese un nombre:katya\n",
            "El nombre Katya se encuentra en la posición 186.\n"
          ]
        }
      ]
    },
    {
      "cell_type": "markdown",
      "source": [
        "4. Agrega un nombre al final de la lista, otro al principio y otro en la posición anterior a la de tu nombre en la lista. Tene en cuenta el formato usado para ingresar los datos: \"apellidos, nombres\""
      ],
      "metadata": {
        "id": "kZeEHUYVNwGV"
      }
    },
    {
      "cell_type": "code",
      "source": [
        "nombre_final = input(\"Ingrese un nombre:\").title()\n",
        "nombre_inicio = input(\"Ingrese un nombre:\").title()\n",
        "nombre_anterior = input(\"Ingrese un nombre:\").title()\n",
        "alumnos.append(nombre_final)\n",
        "alumnos.insert(0,nombre_inicio)\n",
        "alumnos.insert(nombres.index(nombre_anterior),nombre_final)\n",
        "for alumno in alumnos:\n",
        "\tprint(alumno)"
      ],
      "metadata": {
        "id": "TKepEANwxgLv"
      },
      "execution_count": null,
      "outputs": []
    },
    {
      "cell_type": "markdown",
      "source": [
        "5. Mostrá cada elemento de la lista mientras la vacias usando el metodo pop(). Para lograr esto usá la estructura while.\n",
        "\n",
        "Tene en cuenta que:\n",
        "\n",
        "\n",
        ">```python\n",
        "bool([]) = False\n",
        "```\n",
        "\n"
      ],
      "metadata": {
        "id": "b_we1Oz4OUBN"
      }
    },
    {
      "cell_type": "code",
      "source": [
        "while alumnos:\n",
        "  print(alumnos.pop())"
      ],
      "metadata": {
        "id": "bjn9DhewPhWF",
        "colab": {
          "base_uri": "https://localhost:8080/"
        },
        "outputId": "18df3553-cbf0-4c27-9aeb-08506f927313"
      },
      "execution_count": 33,
      "outputs": [
        {
          "output_type": "stream",
          "name": "stdout",
          "text": [
            "Virgillito, Katya Milena\n",
            "Vilte, Mia Antonella Alondra\n",
            "Tapia, Martin Gabriel\n",
            "Sierra, Lucas Mauricio\n",
            "Scarano, Renato Marcelo\n",
            "Sanchez Flores, Matías Agustín\n",
            "Rios, Lucia Magali\n",
            "Rasuk, Karim\n",
            "Messina, Martina\n",
            "Merluzzi Dagum, Ignacio\n",
            "Marinaro, Martin Ezequiel\n",
            "Mamani Garrido, Rosario Agostina\n",
            "Lopez, Victoria Constanza\n",
            "Guanca, Sara Elizabeth\n",
            "Grancara, Martina Luna\n",
            "Giangreco, Vitto Tomasso\n",
            "Galvan, Lourdes Yamila\n",
            "Gallo, Octavio Ismael\n",
            "Flores Cardozo, Agustina Tiara\n",
            "Figueroa, Santino Josue\n",
            "Diaz, Dulce Maitena\n",
            "Colque Rivero, Ariana Zoe Del Valle\n",
            "Bracamonte Martinez, Salvador\n",
            "Bettinelli, Valentino\n",
            "Barrozo Vedia, Joaquin Nicolas\n",
            "Barrera, Matias Ezequiel\n",
            "Argañaraz, Agostina Abril\n",
            "Araoz Sanchez, Lautaro Nahuel\n",
            "Anaquin, Leonardo Ezequiel\n",
            "Amador, Luana Micaela\n",
            "Abud Laspiur, Lourdes Mariel\n",
            "Zalazar, Santino Stefano\n",
            "Voltolini, Emanuel Tobias\n",
            "Villalba, Irina\n",
            "Soto Camara, Agustin Ignacio\n",
            "Salem Barba, Mahia\n",
            "Rosales, Francisco Gabriel\n",
            "Retamal Cisneros, Zacarias Josue\n",
            "Portella Valdivia, Pedro Francisco\n",
            "Martinez, Tomas Andres\n",
            "Mamani Kynast, Nicolas Mauricio\n",
            "Lezcano, Celia Morena\n",
            "Lascano Guanca, Marcelo Fabricio\n",
            "Lacour Polo, Nazarena\n",
            "Jaime, Anita Maria Belen\n",
            "Guzman, Jazmin Esmeralda Belen\n",
            "Guzman, Angélica Morena\n",
            "Geronimo Soriano, Lizzie Amaya\n",
            "Flores, Victoria Agustina\n",
            "D Elia, Alvaro Tadeo\n",
            "Correa Segovia, Hugo Mariano\n",
            "Castillo, Paulina Milagros\n",
            "Caseres, Maria Antonia\n",
            "Arenas, Lucas Gabriel\n",
            "Angel, Camila Juliana\n",
            "Alvarado, Ludmila Del Milagro\n",
            "Alurralde, Solange Stefania\n"
          ]
        }
      ]
    },
    {
      "cell_type": "markdown",
      "source": [
        "6. Crea un menú para ordenar la lista de manera ascendente o descendente. Realiza esta acción y muestra el resultado según la opción elegida por el usuario."
      ],
      "metadata": {
        "id": "xY4BuqGdQBF1"
      }
    },
    {
      "cell_type": "code",
      "source": [
        "lista = {\n",
        "    1: \"Ordenar ascendentemente\",\n",
        "    2: \"Ordenar descendentemente\",}\n",
        "for opcion, mensaje in lista.items():\n",
        "  print(f\"{opcion}. {mensaje}\")\n",
        "opcion = input(\"Ingrese una opción: \")\n",
        "if opcion == \"1\":\n",
        "  alumnos.sort()\n",
        "  print(alumnos)\n",
        "elif opcion == \"2\":\n",
        "  alumnos.sort(reverse=True)\n",
        "  print(alumnos)\n",
        "else:\n",
        "  print(\"Opción no válida.\")"
      ],
      "metadata": {
        "id": "NKR3ciBKSjhr",
        "colab": {
          "base_uri": "https://localhost:8080/"
        },
        "outputId": "c9894208-2fc6-424c-9d25-b0f6c4688600"
      },
      "execution_count": 54,
      "outputs": [
        {
          "output_type": "stream",
          "name": "stdout",
          "text": [
            "1. Ordenar ascendentemente\n",
            "2. Ordenar descendentemente\n",
            "Ingrese una opción: 1\n",
            "['Abud Laspiur, Lourdes Mariel', 'Alurralde, Solange Stefania', 'Alvarado, Ludmila Del Milagro', 'Amador, Luana Micaela', 'Anaquin, Leonardo Ezequiel', 'Angel, Camila Juliana', 'Araoz Sanchez, Lautaro Nahuel', 'Arenas, Lucas Gabriel', 'Argañaraz, Agostina Abril', 'Barrera, Matias Ezequiel', 'Barrozo Vedia, Joaquin Nicolas', 'Bettinelli, Valentino', 'Bracamonte Martinez, Salvador', 'Caseres, Maria Antonia', 'Castillo, Paulina Milagros', 'Colque Rivero, Ariana Zoe Del Valle', 'Correa Segovia, Hugo Mariano', 'D Elia, Alvaro Tadeo', 'Diaz, Dulce Maitena', 'Figueroa, Santino Josue', 'Flores Cardozo, Agustina Tiara', 'Flores, Victoria Agustina', 'Gallo, Octavio Ismael', 'Galvan, Lourdes Yamila', 'Geronimo Soriano, Lizzie Amaya', 'Giangreco, Vitto Tomasso', 'Grancara, Martina Luna', 'Guanca, Sara Elizabeth', 'Guzman, Angélica Morena', 'Guzman, Jazmin Esmeralda Belen', 'Jaime, Anita Maria Belen', 'Lacour Polo, Nazarena', 'Lascano Guanca, Marcelo Fabricio', 'Lezcano, Celia Morena', 'Lopez, Victoria Constanza', 'Mamani Garrido, Rosario Agostina', 'Mamani Kynast, Nicolas Mauricio', 'Marinaro, Martin Ezequiel', 'Martinez, Tomas Andres', 'Merluzzi Dagum, Ignacio', 'Messina, Martina', 'Portella Valdivia, Pedro Francisco', 'Rasuk, Karim', 'Retamal Cisneros, Zacarias Josue', 'Rios, Lucia Magali', 'Rosales, Francisco Gabriel', 'Salem Barba, Mahia', 'Sanchez Flores, Matías Agustín', 'Scarano, Renato Marcelo', 'Sierra, Lucas Mauricio', 'Soto Camara, Agustin Ignacio', 'Tapia, Martin Gabriel', 'Villalba, Irina', 'Vilte, Mia Antonella Alondra', 'Virgillito, Katya Milena', 'Voltolini, Emanuel Tobias', 'Zalazar, Santino Stefano']\n"
          ]
        }
      ]
    },
    {
      "cell_type": "markdown",
      "source": [
        "7. - Crea, a partir de la lista estudiantes, una nueva lista tupla_estudiantes que contenga los nombres en formato de tuplas, donde el primer elemento sea el apellido y el segundo el nombre.\n",
        "  - Muestra cada tupla de la nueva lista.\n"
      ],
      "metadata": {
        "id": "7wb4sRbOSkdM"
      }
    },
    {
      "cell_type": "code",
      "source": [
        "tupla_estudiantes = []\n",
        "for estudiante in alumnos:\n",
        "  apellido, nombre = estudiante.split(', ')\n",
        "  tupla_estudiantes.append((apellido, nombre))\n",
        "\n",
        "for tupla in tupla_estudiantes:\n",
        "  print(tupla)"
      ],
      "metadata": {
        "id": "f9v0mfoZS9_s",
        "colab": {
          "base_uri": "https://localhost:8080/"
        },
        "outputId": "1bb83455-9187-4f94-b8f1-613752b87055"
      },
      "execution_count": 55,
      "outputs": [
        {
          "output_type": "stream",
          "name": "stdout",
          "text": [
            "('Abud Laspiur', 'Lourdes Mariel')\n",
            "('Alurralde', 'Solange Stefania')\n",
            "('Alvarado', 'Ludmila Del Milagro')\n",
            "('Amador', 'Luana Micaela')\n",
            "('Anaquin', 'Leonardo Ezequiel')\n",
            "('Angel', 'Camila Juliana')\n",
            "('Araoz Sanchez', 'Lautaro Nahuel')\n",
            "('Arenas', 'Lucas Gabriel')\n",
            "('Argañaraz', 'Agostina Abril')\n",
            "('Barrera', 'Matias Ezequiel')\n",
            "('Barrozo Vedia', 'Joaquin Nicolas')\n",
            "('Bettinelli', 'Valentino')\n",
            "('Bracamonte Martinez', 'Salvador')\n",
            "('Caseres', 'Maria Antonia')\n",
            "('Castillo', 'Paulina Milagros')\n",
            "('Colque Rivero', 'Ariana Zoe Del Valle')\n",
            "('Correa Segovia', 'Hugo Mariano')\n",
            "('D Elia', 'Alvaro Tadeo')\n",
            "('Diaz', 'Dulce Maitena')\n",
            "('Figueroa', 'Santino Josue')\n",
            "('Flores Cardozo', 'Agustina Tiara')\n",
            "('Flores', 'Victoria Agustina')\n",
            "('Gallo', 'Octavio Ismael')\n",
            "('Galvan', 'Lourdes Yamila')\n",
            "('Geronimo Soriano', 'Lizzie Amaya')\n",
            "('Giangreco', 'Vitto Tomasso')\n",
            "('Grancara', 'Martina Luna')\n",
            "('Guanca', 'Sara Elizabeth')\n",
            "('Guzman', 'Angélica Morena')\n",
            "('Guzman', 'Jazmin Esmeralda Belen')\n",
            "('Jaime', 'Anita Maria Belen')\n",
            "('Lacour Polo', 'Nazarena')\n",
            "('Lascano Guanca', 'Marcelo Fabricio')\n",
            "('Lezcano', 'Celia Morena')\n",
            "('Lopez', 'Victoria Constanza')\n",
            "('Mamani Garrido', 'Rosario Agostina')\n",
            "('Mamani Kynast', 'Nicolas Mauricio')\n",
            "('Marinaro', 'Martin Ezequiel')\n",
            "('Martinez', 'Tomas Andres')\n",
            "('Merluzzi Dagum', 'Ignacio')\n",
            "('Messina', 'Martina')\n",
            "('Portella Valdivia', 'Pedro Francisco')\n",
            "('Rasuk', 'Karim')\n",
            "('Retamal Cisneros', 'Zacarias Josue')\n",
            "('Rios', 'Lucia Magali')\n",
            "('Rosales', 'Francisco Gabriel')\n",
            "('Salem Barba', 'Mahia')\n",
            "('Sanchez Flores', 'Matías Agustín')\n",
            "('Scarano', 'Renato Marcelo')\n",
            "('Sierra', 'Lucas Mauricio')\n",
            "('Soto Camara', 'Agustin Ignacio')\n",
            "('Tapia', 'Martin Gabriel')\n",
            "('Villalba', 'Irina')\n",
            "('Vilte', 'Mia Antonella Alondra')\n",
            "('Virgillito', 'Katya Milena')\n",
            "('Voltolini', 'Emanuel Tobias')\n",
            "('Zalazar', 'Santino Stefano')\n"
          ]
        }
      ]
    },
    {
      "cell_type": "markdown",
      "source": [
        "8. Crea un menú como el del ejercicio 6, pero ahora permite elegir si ordenar alfabéticamente por nombre o por apellido.\n",
        "> Para resolver este ejercicio, solicitar ayuda en clase o en el foro\n"
      ],
      "metadata": {
        "id": "PziNZOOBS_UQ"
      }
    },
    {
      "cell_type": "code",
      "source": [],
      "metadata": {
        "id": "v72o7Pix76H9"
      },
      "execution_count": null,
      "outputs": []
    },
    {
      "cell_type": "code",
      "source": [
        "pass"
      ],
      "metadata": {
        "id": "X7Xu-KyaTWth"
      },
      "execution_count": null,
      "outputs": []
    },
    {
      "cell_type": "markdown",
      "source": [
        "9. Agrega un dato en la posición siguiente a la de tu nombre en el nuevo formato de tupla. Para esto solicita al usuario su nombre y apellido, almacena estos datos en una tupla y agrega la misma a la lista \"tupla_estudiantes\""
      ],
      "metadata": {
        "id": "mtnmvoZ9TXii"
      }
    },
    {
      "cell_type": "code",
      "source": [
        "pass"
      ],
      "metadata": {
        "id": "RSXz_XcvT0Nc"
      },
      "execution_count": null,
      "outputs": []
    },
    {
      "cell_type": "markdown",
      "source": [
        "10. - Pedir al usuario un nombre y mostrar todos los estudiantes que tengan ese nombre.\n",
        "  - Hacer lo mismo con un apellido.\n"
      ],
      "metadata": {
        "id": "dY4y7OVPT1FT"
      }
    },
    {
      "cell_type": "code",
      "source": [
        "pass"
      ],
      "metadata": {
        "id": "bVTVfjH4VMBM"
      },
      "execution_count": null,
      "outputs": []
    },
    {
      "cell_type": "markdown",
      "source": [
        "11. Pedir un nombre al usuario y eliminar todos los registros donde se encuentre un estudiante con el nombre ingresado.\n"
      ],
      "metadata": {
        "id": "7zdJLrqXVM30"
      }
    },
    {
      "cell_type": "code",
      "source": [
        "pass"
      ],
      "metadata": {
        "id": "3_rnimG_VQr6"
      },
      "execution_count": null,
      "outputs": []
    },
    {
      "cell_type": "markdown",
      "source": [
        "12. Pedir dos apellidos al usuario, y reemplazar el primer apellido por el segundo en todos los registros donde se encuentre."
      ],
      "metadata": {
        "id": "DGU_hs0BVRfa"
      }
    },
    {
      "cell_type": "code",
      "source": [
        "pass"
      ],
      "metadata": {
        "id": "ghxBxrzTV6aL"
      },
      "execution_count": null,
      "outputs": []
    }
  ]
}